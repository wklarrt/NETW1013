{
 "cells": [
  {
   "cell_type": "code",
   "execution_count": 1,
   "metadata": {},
   "outputs": [],
   "source": [
    "# used for manipulating directory paths\n",
    "import os\n",
    "\n",
    "# Scientific and vector computation for python\n",
    "import numpy as np\n",
    "\n",
    "# Plotting library\n",
    "from matplotlib import pyplot as plt\n",
    "from mpl_toolkits.mplot3d import Axes3D  # needed to plot 3-D surfaces\n",
    "# tells matplotlib to embed plots within the notebook\n",
    "%matplotlib inline\n",
    "\n",
    "# Calculate mean square error\n",
    "from sklearn.metrics import mean_squared_error \n",
    "\n",
    "import pandas as pd\n",
    "pd.set_option('display.max_rows', 500)\n",
    "pd.set_option('display.max_columns', 500)\n",
    "pd.set_option('display.width', 1000)\n",
    "\n",
    "import statistics"
   ]
  },
  {
   "cell_type": "code",
   "execution_count": 2,
   "metadata": {},
   "outputs": [],
   "source": [
    "def featureNormalize(x):\n",
    "    # Normalize a given array\n",
    "    x_norm = x.copy()\n",
    "    x_norm = (x_norm - np.mean(x_norm))/(np.std(x_norm))\n",
    "    \n",
    "    return x_norm"
   ]
  },
  {
   "cell_type": "code",
   "execution_count": 3,
   "metadata": {},
   "outputs": [],
   "source": [
    "house_data = pd.read_csv('house_data_complete.csv')\n",
    "\n",
    "# Drop useless columns\n",
    "house_data = house_data.drop(['id', 'date', 'zipcode', 'lat', 'long'], axis=1)\n",
    "\n",
    "# Convert to array\n",
    "house_data = house_data.to_numpy()\n",
    "\n",
    "# Shuffle\n",
    "np.random.shuffle(house_data)\n",
    "\n",
    "# Number of elements\n",
    "m = house_data.shape[0]\n",
    "\n",
    "# Split x and y\n",
    "x = house_data[:, 1:]\n",
    "y = house_data[:, 0]\n",
    "\n",
    "x = featureNormalize(x)\n",
    "\n",
    "# Split into three parts 60/20/20\n",
    "x_train, x_cv, x_test = np.split(x, [int(0.6*m), int(0.8*m)])\n",
    "y_train, y_cv, y_test = np.split(y, [int(0.6*m), int(0.8*m)])"
   ]
  },
  {
   "cell_type": "code",
   "execution_count": 4,
   "metadata": {},
   "outputs": [],
   "source": [
    "def computeCostMulti(X, y, theta, lambda_):\n",
    "    \"\"\"\n",
    "    Compute cost for linear regression with multiple variables.\n",
    "    Computes the cost of using theta as the parameter for linear regression to fit the data points in X and y.\n",
    "    \n",
    "    Parameters\n",
    "    ----------\n",
    "    X : array_like\n",
    "        The dataset of shape (m x n+1).\n",
    "    \n",
    "    y : array_like\n",
    "        A vector of shape (m, ) for the values at a given data point.\n",
    "    \n",
    "    theta : array_like\n",
    "        The linear regression parameters. A vector of shape (n+1, )\n",
    "    \n",
    "    Returns\n",
    "    -------\n",
    "    J : float\n",
    "        The value of the cost function. \n",
    "    \n",
    "    Instructions\n",
    "    ------------\n",
    "    Compute the cost of a particular choice of theta. You should set J to the cost.\n",
    "    \"\"\"\n",
    "    # Initialize some useful values\n",
    "    m = y.shape[0] # number of training examples\n",
    "    \n",
    "    # You need to return the following variable correctly\n",
    "    J = 0\n",
    "    \n",
    "    # ======================= YOUR CODE HERE ===========================\n",
    "    \n",
    "    J = 1/(2*m)*np.dot((np.dot(X, theta) - y.T), (np.dot(X, theta) - y.T)) + lambda_/(2*m) * np.sum(np.square(theta))     \n",
    "    # ==================================================================\n",
    "    return J\n"
   ]
  },
  {
   "cell_type": "code",
   "execution_count": 5,
   "metadata": {},
   "outputs": [],
   "source": [
    "def gradientDescentMulti(X, y, theta, alpha, num_iters, lambda_):\n",
    "    \"\"\"\n",
    "    Performs gradient descent to learn theta.\n",
    "    Updates theta by taking num_iters gradient steps with learning rate alpha.\n",
    "        \n",
    "    Parameters\n",
    "    ----------\n",
    "    X : array_like\n",
    "        The dataset of shape (m x n+1).\n",
    "    \n",
    "    y : array_like\n",
    "        A vector of shape (m, ) for the values at a given data point.\n",
    "    \n",
    "    theta : array_like\n",
    "        The linear regression parameters. A vector of shape (n+1, )\n",
    "    \n",
    "    alpha : float\n",
    "        The learning rate for gradient descent. \n",
    "    \n",
    "    num_iters : int\n",
    "        The number of iterations to run gradient descent. \n",
    "    \n",
    "    Returns\n",
    "    -------\n",
    "    theta : array_like\n",
    "        The learned linear regression parameters. A vector of shape (n+1, ).\n",
    "    \n",
    "    J_history : list\n",
    "        A python list for the values of the cost function after each iteration.\n",
    "    \n",
    "    Instructions\n",
    "    ------------\n",
    "    Peform a single gradient step on the parameter vector theta.\n",
    "\n",
    "    While debugging, it can be useful to print out the values of \n",
    "    the cost function (computeCost) and gradient here.\n",
    "    \"\"\"\n",
    "    # Initialize some useful values\n",
    "    m = y.shape[0] # number of training examples\n",
    "    \n",
    "    # make a copy of theta, which will be updated by gradient descent\n",
    "    theta = theta.copy()\n",
    "    \n",
    "    J_history = []\n",
    "    \n",
    "    for i in range(num_iters):\n",
    "        # ======================= YOUR CODE HERE ==========================\n",
    "        \n",
    "        alphabym=alpha/m\n",
    "        sumofh0x=np.dot(X,theta)\n",
    "        theta=theta-((alpha/m)*(np.dot(X.T,sumofh0x-y)))+lambda_*theta\n",
    "        \n",
    "        # =================================================================\n",
    "        \n",
    "        # save the cost J in every iteration\n",
    "        J_history.append(computeCostMulti(X, y, theta, lambda_))\n",
    "    \n",
    "    return theta, J_history"
   ]
  },
  {
   "cell_type": "code",
   "execution_count": 6,
   "metadata": {},
   "outputs": [
    {
     "data": {
      "text/plain": [
       "Text(0.5, 1.0, 'Hypothesis 1 Cost')"
      ]
     },
     "execution_count": 6,
     "metadata": {},
     "output_type": "execute_result"
    },
    {
     "data": {
      "image/png": "[encoded data removed]",
      "text/plain": [
       "<Figure size 432x288 with 1 Axes>"
      ]
     },
     "metadata": {
      "needs_background": "light"
     },
     "output_type": "display_data"
    }
   ],
   "source": [
    "# Hypothesis 1: Linear\n",
    "\n",
    "# training set length\n",
    "m = x_train.shape[0]\n",
    "\n",
    "# theta length = n+1 features\n",
    "theta = np.zeros(x_train.shape[1]+1)\n",
    "\n",
    "# append column to x training\n",
    "x_train = np.concatenate([np.ones((m, 1)), x_train], axis=1)\n",
    "\n",
    "# run settings\n",
    "alpha = 0.1\n",
    "n_runs = 50\n",
    "lambda_ = 0.0001\n",
    "\n",
    "theta, J_history = gradientDescentMulti(x_train, y_train, theta, alpha, n_runs, lambda_)\n",
    "\n",
    "# Plot the convergence graph\n",
    "plt.plot(np.arange(len(J_history)), J_history, lw=2)\n",
    "plt.xlabel('Number of iterations')\n",
    "plt.ylabel('Cost J')\n",
    "plt.title('Hypothesis 1 Cost')"
   ]
  },
  {
   "cell_type": "code",
   "execution_count": 7,
   "metadata": {},
   "outputs": [
    {
     "name": "stdout",
     "output_type": "stream",
     "text": [
      "61079195479.84738\n",
      "51863939345.99713\n",
      "536968.1379787233 334990.0\n"
     ]
    }
   ],
   "source": [
    "# Test hypothesis 1\n",
    "\n",
    "# cv set length\n",
    "m = x_cv.shape[0]\n",
    "# append column to x cv\n",
    "x_cv = np.concatenate([np.ones((m, 1)), x_cv], axis=1)\n",
    "# compute cost\n",
    "print(computeCostMulti(x_cv, y_cv, theta, lambda_))\n",
    "\n",
    "# test set length\n",
    "m = x_test.shape[0]\n",
    "# append column to x cv\n",
    "x_test = np.concatenate([np.ones((m, 1)), x_test], axis=1)\n",
    "# compute cost\n",
    "print(computeCostMulti(x_test, y_test, theta, lambda_))\n",
    "\n",
    "# test randow rom\n",
    "print(np.dot(theta.T, x_test[16]), y_test[16])"
   ]
  },
  {
   "cell_type": "code",
   "execution_count": 8,
   "metadata": {},
   "outputs": [],
   "source": [
    "#Hypothesis 2: polynomial sqft_living\n",
    "\n",
    "# Split x and y\n",
    "x = house_data[:, 1:]\n",
    "y = house_data[:, 0]\n",
    "\n",
    "# add new column sqft_living^2\n",
    "x = np.append(x, np.square(x[:, 2:3]), axis=1)\n",
    "\n",
    "x = featureNormalize(x)\n",
    "\n",
    "# Split into three parts 60/20/20\n",
    "x_train, x_cv, x_test = np.split(x, [int(0.6*m), int(0.8*m)])\n",
    "y_train, y_cv, y_test = np.split(y, [int(0.6*m), int(0.8*m)])"
   ]
  },
  {
   "cell_type": "code",
   "execution_count": 9,
   "metadata": {},
   "outputs": [
    {
     "data": {
      "text/plain": [
       "Text(0.5, 1.0, 'Hypothesis 2 Cost')"
      ]
     },
     "execution_count": 9,
     "metadata": {},
     "output_type": "execute_result"
    },
    {
     "data": {
      "image/png": "[encoded data removed]",
      "text/plain": [
       "<Figure size 432x288 with 1 Axes>"
      ]
     },
     "metadata": {
      "needs_background": "light"
     },
     "output_type": "display_data"
    }
   ],
   "source": [
    "# training set length\n",
    "m = x_train.shape[0]\n",
    "\n",
    "# theta length = n+1 features\n",
    "theta = np.zeros(x_train.shape[1]+1)\n",
    "\n",
    "# append column to x training\n",
    "x_train = np.concatenate([np.ones((m, 1)), x_train], axis=1)\n",
    "\n",
    "# run settings\n",
    "alpha = 0.1\n",
    "n_runs = 50\n",
    "lambda_ = 0.01\n",
    "\n",
    "theta, J_history = gradientDescentMulti(x_train, y_train, theta, alpha, n_runs, lambda_)\n",
    "\n",
    "# Plot the convergence graph\n",
    "plt.plot(np.arange(len(J_history)), J_history, lw=2)\n",
    "plt.xlabel('Number of iterations')\n",
    "plt.ylabel('Cost J')\n",
    "plt.title('Hypothesis 2 Cost')"
   ]
  },
  {
   "cell_type": "code",
   "execution_count": 10,
   "metadata": {},
   "outputs": [
    {
     "name": "stdout",
     "output_type": "stream",
     "text": [
      "28662911938.565395\n",
      "32283886859.69568\n",
      "364360.06465368223 522000.0\n"
     ]
    }
   ],
   "source": [
    "# Test hypothesis 2\n",
    "\n",
    "# cv set length\n",
    "m = x_cv.shape[0]\n",
    "# append column to x cv\n",
    "x_cv = np.concatenate([np.ones((m, 1)), x_cv], axis=1)\n",
    "# compute cost\n",
    "print(computeCostMulti(x_cv, y_cv, theta, lambda_))\n",
    "\n",
    "# test set length\n",
    "m = x_test.shape[0]\n",
    "# append column to x cv\n",
    "x_test = np.concatenate([np.ones((m, 1)), x_test], axis=1)\n",
    "# compute cost\n",
    "print(computeCostMulti(x_test, y_test, theta, lambda_))\n",
    "\n",
    "# test randow rom\n",
    "print(np.dot(theta.T, x_test[16]), y_test[16])"
   ]
  },
  {
   "cell_type": "code",
   "execution_count": 11,
   "metadata": {},
   "outputs": [],
   "source": [
    "#Hypothesis 3: polynomial sqft_living and grade\n",
    "\n",
    "# Split x and y\n",
    "x = house_data[:, 1:]\n",
    "y = house_data[:, 0]\n",
    "\n",
    "# add new column sqft_living^2\n",
    "x = np.append(x, np.square(x[:, 2:3]), axis=1)\n",
    "x = np.append(x, np.square(x[:, 8:9]), axis=1)\n",
    "\n",
    "x = featureNormalize(x)\n",
    "\n",
    "# Split into three parts 60/20/20\n",
    "x_train, x_cv, x_test = np.split(x, [int(0.6*m), int(0.8*m)])\n",
    "y_train, y_cv, y_test = np.split(y, [int(0.6*m), int(0.8*m)])"
   ]
  },
  {
   "cell_type": "code",
   "execution_count": 12,
   "metadata": {},
   "outputs": [
    {
     "data": {
      "text/plain": [
       "Text(0.5, 1.0, 'Hypothesis 3 Cost')"
      ]
     },
     "execution_count": 12,
     "metadata": {},
     "output_type": "execute_result"
    },
    {
     "data": {
      "image/png": "[encoded data removed]",
      "text/plain": [
       "<Figure size 432x288 with 1 Axes>"
      ]
     },
     "metadata": {
      "needs_background": "light"
     },
     "output_type": "display_data"
    }
   ],
   "source": [
    "# training set length\n",
    "m = x_train.shape[0]\n",
    "\n",
    "# theta length = n+1 features\n",
    "theta = np.zeros(x_train.shape[1]+1)\n",
    "\n",
    "# append column to x training\n",
    "x_train = np.concatenate([np.ones((m, 1)), x_train], axis=1)\n",
    "\n",
    "# run settings\n",
    "alpha = 0.1\n",
    "n_runs = 50\n",
    "lambda_ = 0.01\n",
    "\n",
    "theta, J_history = gradientDescentMulti(x_train, y_train, theta, alpha, n_runs, lambda_)\n",
    "\n",
    "# Plot the convergence graph\n",
    "plt.plot(np.arange(len(J_history)), J_history, lw=2)\n",
    "plt.xlabel('Number of iterations')\n",
    "plt.ylabel('Cost J')\n",
    "plt.title('Hypothesis 3 Cost')"
   ]
  },
  {
   "cell_type": "code",
   "execution_count": 13,
   "metadata": {},
   "outputs": [
    {
     "name": "stdout",
     "output_type": "stream",
     "text": [
      "36996827536.1272\n",
      "29837928470.08075\n",
      "362358.8905246955 172500.0\n"
     ]
    }
   ],
   "source": [
    "# Test hypothesis 3\n",
    "\n",
    "# cv set length\n",
    "m = x_cv.shape[0]\n",
    "# append column to x cv\n",
    "x_cv = np.concatenate([np.ones((m, 1)), x_cv], axis=1)\n",
    "# compute cost\n",
    "print(computeCostMulti(x_cv, y_cv, theta, lambda_))\n",
    "\n",
    "# test set length\n",
    "m = x_test.shape[0]\n",
    "# append column to x cv\n",
    "x_test = np.concatenate([np.ones((m, 1)), x_test], axis=1)\n",
    "# compute cost\n",
    "print(computeCostMulti(x_test, y_test, theta, lambda_))\n",
    "\n",
    "# test randow rom\n",
    "print(np.dot(theta.T, x_test[16]), y_test[16])"
   ]
  },
  {
   "cell_type": "code",
   "execution_count": 14,
   "metadata": {},
   "outputs": [],
   "source": [
    "# Three fold testing\n",
    "\n",
    "\n",
    "# Number of elements\n",
    "m = house_data.shape[0]\n",
    "\n",
    "# Split x and y\n",
    "x = house_data[:, 1:]\n",
    "y = house_data[:, 0]\n",
    "\n",
    "# append column to x\n",
    "x = np.concatenate([np.ones((m, 1)), x], axis=1)\n",
    "\n",
    "x = featureNormalize(x)\n",
    "\n",
    "# Split into three parts 33/33/33\n",
    "x1, x2, x3 = np.split(x, [int(0.33*m), int(0.66*m)])\n",
    "y1, y2, y3 = np.split(y, [int(0.33*m), int(0.66*m)])"
   ]
  },
  {
   "cell_type": "code",
   "execution_count": 15,
   "metadata": {},
   "outputs": [
    {
     "data": {
      "image/png": "[encoded data removed]",
      "text/plain": [
       "<Figure size 432x288 with 1 Axes>"
      ]
     },
     "metadata": {
      "needs_background": "light"
     },
     "output_type": "display_data"
    }
   ],
   "source": [
    "# Train 1\n",
    "kfoldcost = []\n",
    "# run settings\n",
    "alpha = 0.1\n",
    "n_runs = 50\n",
    "lambda_ = 0.01\n",
    "\n",
    "x_train = np.concatenate([x1, x2], axis=0)\n",
    "y_train = np.concatenate([y1, y2])\n",
    "\n",
    "theta = np.zeros(x_train.shape[1])\n",
    "\n",
    "theta, J_history = gradientDescentMulti(x_train, y_train, theta, alpha, n_runs, lambda_)\n",
    "# Plot the convergence graph\n",
    "plt.plot(np.arange(len(J_history)), J_history, lw=2)\n",
    "plt.xlabel('Number of iterations')\n",
    "plt.ylabel('Cost J')\n",
    "plt.title('kfold 1 Cost')\n",
    "\n",
    "# test 1\n",
    "\n",
    "kfoldcost.append(computeCostMulti(x3, y3, theta, lambda_))"
   ]
  },
  {
   "cell_type": "code",
   "execution_count": 16,
   "metadata": {},
   "outputs": [
    {
     "data": {
      "image/png": "[encoded data removed]",
      "text/plain": [
       "<Figure size 432x288 with 1 Axes>"
      ]
     },
     "metadata": {
      "needs_background": "light"
     },
     "output_type": "display_data"
    }
   ],
   "source": [
    "# Train 2\n",
    "# run settings\n",
    "alpha = 0.1\n",
    "n_runs = 50\n",
    "lambda_ = 0.01\n",
    "\n",
    "x_train = np.concatenate([x1, x3], axis=0)\n",
    "y_train = np.concatenate([y1, y3])\n",
    "\n",
    "theta = np.zeros(x_train.shape[1])\n",
    "\n",
    "theta, J_history = gradientDescentMulti(x_train, y_train, theta, alpha, n_runs, lambda_)\n",
    "# Plot the convergence graph\n",
    "plt.plot(np.arange(len(J_history)), J_history, lw=2)\n",
    "plt.xlabel('Number of iterations')\n",
    "plt.ylabel('Cost J')\n",
    "plt.title('kfold 2 Cost')\n",
    "\n",
    "# test 2\n",
    "\n",
    "kfoldcost.append(computeCostMulti(x2, y2, theta, lambda_))"
   ]
  },
  {
   "cell_type": "code",
   "execution_count": 17,
   "metadata": {},
   "outputs": [
    {
     "data": {
      "image/png": "[encoded data removed]",
      "text/plain": [
       "<Figure size 432x288 with 1 Axes>"
      ]
     },
     "metadata": {
      "needs_background": "light"
     },
     "output_type": "display_data"
    }
   ],
   "source": [
    "# Train 3\n",
    "# run settings\n",
    "alpha = 0.1\n",
    "n_runs = 50\n",
    "lambda_ = 0.01\n",
    "\n",
    "x_train = np.concatenate([x2, x3], axis=0)\n",
    "y_train = np.concatenate([y2, y3])\n",
    "\n",
    "theta = np.zeros(x_train.shape[1])\n",
    "\n",
    "theta, J_history = gradientDescentMulti(x_train, y_train, theta, alpha, n_runs, lambda_)\n",
    "# Plot the convergence graph\n",
    "plt.plot(np.arange(len(J_history)), J_history, lw=2)\n",
    "plt.xlabel('Number of iterations')\n",
    "plt.ylabel('Cost J')\n",
    "plt.title('kfold3 3 Cost')\n",
    "\n",
    "# test 3\n",
    "\n",
    "kfoldcost.append(computeCostMulti(x1, y1, theta, lambda_))"
   ]
  },
  {
   "cell_type": "code",
   "execution_count": 18,
   "metadata": {},
   "outputs": [
    {
     "name": "stdout",
     "output_type": "stream",
     "text": [
      "[59299910358.53708, 66176426356.71234, 79959285211.19746]\n",
      "68478540642.148964\n"
     ]
    }
   ],
   "source": [
    "print(kfoldcost)\n",
    "print(statistics.mean(kfoldcost))"
   ]
  },
  {
   "cell_type": "code",
   "execution_count": null,
   "metadata": {},
   "outputs": [],
   "source": []
  },
  {
   "cell_type": "code",
   "execution_count": 19,
   "metadata": {},
   "outputs": [
    {
     "data": {
      "text/plain": [
       "Text(0.5, 0, 'grade')"
      ]
     },
     "execution_count": 19,
     "metadata": {},
     "output_type": "execute_result"
    },
    {
     "data": {
      "image/png": "[encoded data removed]",
      "text/plain": [
       "<Figure size 432x288 with 1 Axes>"
      ]
     },
     "metadata": {
      "needs_background": "light"
     },
     "output_type": "display_data"
    },
    {
     "data": {
      "image/png": "[encoded data removed]",
      "text/plain": [
       "<Figure size 432x288 with 1 Axes>"
      ]
     },
     "metadata": {
      "needs_background": "light"
     },
     "output_type": "display_data"
    }
   ],
   "source": [
    "# visualize some data\n",
    "x = house_data[:, 1:]\n",
    "y = house_data[:, 0]\n",
    "\n",
    "plt.plot(x[:100, 2], y[:100], 'go')\n",
    "plt.ylabel('Price')\n",
    "plt.xlabel('area_sqft')\n",
    "\n",
    "plt.figure()\n",
    "plt.plot(x[:500, 7], y[:500], 'ro')\n",
    "plt.ylabel('Price')\n",
    "plt.xlabel('grade')"
   ]
  },
  {
   "cell_type": "code",
   "execution_count": 20,
   "metadata": {},
   "outputs": [
    {
     "name": "stdout",
     "output_type": "stream",
     "text": [
      "[[-0.17080961 -0.17058237 -0.17073387 ... -0.17088536 -0.0640834\n",
      "   0.56544217]\n",
      " [-0.17080961 -0.17058237 -0.17063918 ... -0.17088536  0.01847981\n",
      "   2.53135563]\n",
      " [-0.17080961 -0.17073387 -0.1707528  ... -0.17088536 -0.04363196\n",
      "   0.47068384]\n",
      " ...\n",
      " [-0.17080961 -0.17058237 -0.17069599 ... -0.17088536 -0.01484846\n",
      "   0.39569523]\n",
      " [-0.17080961 -0.17050663 -0.17062025 ... -0.17088536  0.03817379\n",
      "   0.17656186]\n",
      " [-0.17080961 -0.17065812 -0.17077174 ... -0.17088536 -0.07696023\n",
      "  -0.09316989]] [[-0.17080961 -0.17050663 -0.17069599 ... -0.17088536  0.08059159\n",
      "   0.40970826]\n",
      " [-0.17080961 -0.17073387 -0.17080961 ... -0.17088536 -0.02469545\n",
      "   0.72829622]\n",
      " [-0.17080961 -0.17058237 -0.17069599 ... -0.17088536  0.03135664\n",
      "   0.29889176]\n",
      " ...\n",
      " [-0.17080961 -0.17043088 -0.17069599 ... -0.17088536  0.01651041\n",
      "   0.62096404]\n",
      " [-0.17080961 -0.17058237 -0.1707528  ... -0.17088536  0.10407287\n",
      "   1.07801582]\n",
      " [-0.17080961 -0.17058237 -0.17071493 ... -0.17088536  0.01166267\n",
      "   2.60748043]]\n"
     ]
    }
   ],
   "source": [
    "print(x1, x2)"
   ]
  },
  {
   "cell_type": "code",
   "execution_count": null,
   "metadata": {},
   "outputs": [],
   "source": []
  }
 ],
 "metadata": {
  "kernelspec": {
   "display_name": "Python 3",
   "language": "python",
   "name": "python3"
  },
  "language_info": {
   "codemirror_mode": {
    "name": "ipython",
    "version": 3
   },
   "file_extension": ".py",
   "mimetype": "text/x-python",
   "name": "python",
   "nbconvert_exporter": "python",
   "pygments_lexer": "ipython3",
   "version": "3.7.4"
  }
 },
 "nbformat": 4,
 "nbformat_minor": 2
}
